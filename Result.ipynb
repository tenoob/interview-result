{
 "cells": [
  {
   "cell_type": "code",
   "execution_count": 9,
   "metadata": {},
   "outputs": [],
   "source": [
    "#import tkinter as tk\n",
    "from matplotlib.figure import Figure \n",
    "from tkinter import *\n",
    "import matplotlib.pyplot as plt\n",
    "import seaborn as sns\n",
    "import pandas as pd\n",
    "import pickle\n",
    "from matplotlib.backends.backend_tkagg import FigureCanvasTkAgg,NavigationToolbar2Tk\n",
    "from PIL import ImageTk,Image\n",
    "import cv2\n",
    "\n",
    "\n",
    "def result(experience, apptitude , coding):\n",
    "    master = Tk()\n",
    "    master.title(\"Result\")\n",
    "    canvas = tk.Canvas(master, background=\"grey40\")\n",
    "    canvas.pack(fill=\"both\", expand=True)\n",
    "\n",
    "    #*****************\n",
    "    def graph():\n",
    "        rot = Tk()\n",
    "        rot.title(\"Result Visualization\")\n",
    "        canvas1 = tk.Canvas(rot, background=\"grey40\",width=400,height=0)\n",
    "        canvas1.pack(fill=\"both\", expand=True)\n",
    "        \n",
    "        \n",
    "       \n",
    "        \n",
    "        \n",
    "        #*****apti and coding\n",
    "        fig = Figure(figsize = (5, 5), dpi = 100) \n",
    "        x_axis = ['aptitude','coding']\n",
    "        y_axis = [6,9]\n",
    "        dictnary = {'x':x_axis,'y':y_axis}\n",
    "        dataframe = pd.DataFrame(dictnary,)\n",
    "        plot1 = fig.add_subplot(111) \n",
    "        plot1.bar(x_axis,y_axis)\n",
    "        canvas = FigureCanvasTkAgg(fig, master = rot)   \n",
    "        canvas.draw() \n",
    "        canvas.get_tk_widget().pack()\n",
    "        toolbar = NavigationToolbar2Tk(canvas, rot) \n",
    "        toolbar.update() \n",
    "        canvas.get_tk_widget().pack() \n",
    "        \n",
    "        img= cv2.imread('salaryvsyear1jpg.png')\n",
    "        cv2.imshow(\"Salary predicted for Experience\",img)\n",
    "        \n",
    "\n",
    "        rot.mainloop() \n",
    "        \n",
    "    #**********header\n",
    "    header = \"Result\"\n",
    "    text_item = canvas.create_text(150,30, anchor=\"w\", text=header, \n",
    "                                   fill=\"white\",font=(\"Helvetica\",20))\n",
    "    bbox = canvas.bbox(text_item)\n",
    "    rect_item = canvas.create_rectangle(bbox ,outline=\"white\", fill=\"green\")\n",
    "    canvas.tag_raise(text_item,rect_item)\n",
    "    \n",
    "    #*******sub header\n",
    "    message1= \"Congratulation , You have Passed the test \\n\\t Your Final Results are \"\n",
    "    text_item = canvas.create_text(65,80, anchor=\"w\", text=message1, \n",
    "                                   fill=\"white\",font=(\"Helvetica\",10))\n",
    "\n",
    "    #********result\n",
    "    colums = \"Experience : %d yrs \\n  Aptitude : %d / 10 \\n    Coding : %d / 10\"%(experience,apptitude,coding)\n",
    "    \n",
    "    text_item = canvas.create_text(110,150, anchor=\"w\", text=colums, \n",
    "                                   fill=\"white\",font=(\"Helvetica\",15))\n",
    "    \n",
    "    #model\n",
    "    model = pickle.load(open(\"model.pkl\", \"rb\"))\n",
    "    salary = model.predict([[experience,apptitude,coding]])\n",
    "    salary_text = \"Predicted Salary : \\u20B9 %d \" % (salary)\n",
    "    text_item = canvas.create_text(70,220, anchor=\"w\", text=salary_text, \n",
    "                                   fill=\"white\",font=(\"Helvetica\",15))\n",
    "    \n",
    "    \n",
    "    #graph\n",
    "    butt = Button(master,text = 'Result Visualization' , command = graph,\n",
    "                 background='white',font=(\"Helvetica\",10),padx=2)\n",
    "    butt.pack()\n",
    "    master.mainloop()\n",
    "    \n",
    "result(15,3,9)"
   ]
  },
  {
   "cell_type": "code",
   "execution_count": 137,
   "metadata": {},
   "outputs": [
    {
     "data": {
      "image/png": "[encoded data removed]",
      "text/plain": [
       "<Figure size 432x288 with 1 Axes>"
      ]
     },
     "metadata": {},
     "output_type": "display_data"
    }
   ],
   "source": [
    "apti=7\n",
    "cod=7\n",
    "hei = [apti,cod]\n",
    "xax = ['apti','cod']\n",
    "plt.bar(xax,apti)\n",
    "plt.y\n",
    "plt.show()"
   ]
  },
  {
   "cell_type": "code",
   "execution_count": 17,
   "metadata": {},
   "outputs": [],
   "source": [
    "x_axis = ['aptitude','coding']\n",
    "y_axis = [7,8]"
   ]
  },
  {
   "cell_type": "code",
   "execution_count": 49,
   "metadata": {},
   "outputs": [],
   "source": [
    " x_axis = ['aptitude','coding']\n",
    "y_axis = [5,8]\n",
    "dictnary = {'x':x_axis,'y':y_axis}\n",
    "dataframe = pd.DataFrame(dictnary,)\n"
   ]
  },
  {
   "cell_type": "code",
   "execution_count": 51,
   "metadata": {},
   "outputs": [
    {
     "data": {
      "text/html": [
       "<div>\n",
       "<style scoped>\n",
       "    .dataframe tbody tr th:only-of-type {\n",
       "        vertical-align: middle;\n",
       "    }\n",
       "\n",
       "    .dataframe tbody tr th {\n",
       "        vertical-align: top;\n",
       "    }\n",
       "\n",
       "    .dataframe thead th {\n",
       "        text-align: right;\n",
       "    }\n",
       "</style>\n",
       "<table border=\"1\" class=\"dataframe\">\n",
       "  <thead>\n",
       "    <tr style=\"text-align: right;\">\n",
       "      <th></th>\n",
       "      <th>x</th>\n",
       "      <th>y</th>\n",
       "    </tr>\n",
       "  </thead>\n",
       "  <tbody>\n",
       "    <tr>\n",
       "      <th>0</th>\n",
       "      <td>aptitude</td>\n",
       "      <td>5</td>\n",
       "    </tr>\n",
       "    <tr>\n",
       "      <th>1</th>\n",
       "      <td>coding</td>\n",
       "      <td>8</td>\n",
       "    </tr>\n",
       "  </tbody>\n",
       "</table>\n",
       "</div>"
      ],
      "text/plain": [
       "          x  y\n",
       "0  aptitude  5\n",
       "1    coding  8"
      ]
     },
     "execution_count": 51,
     "metadata": {},
     "output_type": "execute_result"
    }
   ],
   "source": [
    "dataframe.head()"
   ]
  },
  {
   "cell_type": "code",
   "execution_count": 53,
   "metadata": {},
   "outputs": [],
   "source": [
    "data1 = {'Country': ['US','CA','GER','UK','FR'],\n",
    "         'GDP_Per_Capita': [45000,42000,52000,49000,47000]\n",
    "        }\n",
    "df1 = pd.DataFrame(data1,columns=['Country','GDP_Per_Capita'])"
   ]
  },
  {
   "cell_type": "code",
   "execution_count": 54,
   "metadata": {},
   "outputs": [
    {
     "data": {
      "text/html": [
       "<div>\n",
       "<style scoped>\n",
       "    .dataframe tbody tr th:only-of-type {\n",
       "        vertical-align: middle;\n",
       "    }\n",
       "\n",
       "    .dataframe tbody tr th {\n",
       "        vertical-align: top;\n",
       "    }\n",
       "\n",
       "    .dataframe thead th {\n",
       "        text-align: right;\n",
       "    }\n",
       "</style>\n",
       "<table border=\"1\" class=\"dataframe\">\n",
       "  <thead>\n",
       "    <tr style=\"text-align: right;\">\n",
       "      <th></th>\n",
       "      <th>Country</th>\n",
       "      <th>GDP_Per_Capita</th>\n",
       "    </tr>\n",
       "  </thead>\n",
       "  <tbody>\n",
       "    <tr>\n",
       "      <th>0</th>\n",
       "      <td>US</td>\n",
       "      <td>45000</td>\n",
       "    </tr>\n",
       "    <tr>\n",
       "      <th>1</th>\n",
       "      <td>CA</td>\n",
       "      <td>42000</td>\n",
       "    </tr>\n",
       "    <tr>\n",
       "      <th>2</th>\n",
       "      <td>GER</td>\n",
       "      <td>52000</td>\n",
       "    </tr>\n",
       "    <tr>\n",
       "      <th>3</th>\n",
       "      <td>UK</td>\n",
       "      <td>49000</td>\n",
       "    </tr>\n",
       "    <tr>\n",
       "      <th>4</th>\n",
       "      <td>FR</td>\n",
       "      <td>47000</td>\n",
       "    </tr>\n",
       "  </tbody>\n",
       "</table>\n",
       "</div>"
      ],
      "text/plain": [
       "  Country  GDP_Per_Capita\n",
       "0      US           45000\n",
       "1      CA           42000\n",
       "2     GER           52000\n",
       "3      UK           49000\n",
       "4      FR           47000"
      ]
     },
     "execution_count": 54,
     "metadata": {},
     "output_type": "execute_result"
    }
   ],
   "source": [
    "df1.head()"
   ]
  },
  {
   "cell_type": "code",
   "execution_count": 67,
   "metadata": {},
   "outputs": [],
   "source": [
    "from tkinter import * \n",
    "from matplotlib.figure import Figure \n",
    "from matplotlib.backends.backend_tkagg import (FigureCanvasTkAgg,  \n",
    "NavigationToolbar2Tk) \n",
    "  \n",
    "# plot function is created for  \n",
    "# plotting the graph in  \n",
    "# tkinter window \n",
    "def plot(): \n",
    "  \n",
    "    \n",
    "    fig = Figure(figsize = (5, 5), dpi = 100) \n",
    "    x_axis = ['aptitude','coding']\n",
    "    y_axis = [6,9]\n",
    "    dictnary = {'x':x_axis,'y':y_axis}\n",
    "    dataframe = pd.DataFrame(dictnary,)\n",
    "    plot1 = fig.add_subplot(111) \n",
    "    plot1.bar(x_axis,y_axis)\n",
    "    canvas = FigureCanvasTkAgg(fig, master = window)   \n",
    "    canvas.draw() \n",
    "    canvas.get_tk_widget().pack()\n",
    "    toolbar = NavigationToolbar2Tk(canvas, window) \n",
    "    toolbar.update() \n",
    "    canvas.get_tk_widget().pack() \n",
    "  \n",
    "# the main Tkinter window \n",
    "window = Tk() \n",
    "  \n",
    "# setting the title  \n",
    "window.title('Plotting in Tkinter') \n",
    "  \n",
    "# dimensions of the main window \n",
    "window.geometry(\"500x500\") \n",
    "  \n",
    "# button that displays the plot \n",
    "plot_button = Button(master = window,  \n",
    "                     command = plot, \n",
    "                     height = 2,  \n",
    "                     width = 10, \n",
    "                     text = \"Plot\") \n",
    "  \n",
    "# place the button  \n",
    "# in main window \n",
    "plot_button.pack() \n",
    "  \n",
    "# run the gui \n",
    "window.mainloop() "
   ]
  },
  {
   "cell_type": "code",
   "execution_count": null,
   "metadata": {},
   "outputs": [],
   "source": [
    " #salary\n",
    "        ''''load = Image.open(\"salaryvsyear1jpg.png\")\n",
    "        render = ImageTk.PhotoImage(load)\n",
    "        img = Label(canvas1, image=render)\n",
    "        img.image = render\n",
    "        img.place(x=0, y=0)''''"
   ]
  }
 ],
 "metadata": {
  "kernelspec": {
   "display_name": "Python 3",
   "language": "python",
   "name": "python3"
  },
  "language_info": {
   "codemirror_mode": {
    "name": "ipython",
    "version": 3
   },
   "file_extension": ".py",
   "mimetype": "text/x-python",
   "name": "python",
   "nbconvert_exporter": "python",
   "pygments_lexer": "ipython3",
   "version": "3.6.5"
  }
 },
 "nbformat": 4,
 "nbformat_minor": 2
}
